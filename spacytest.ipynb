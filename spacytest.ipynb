{
 "cells": [
  {
   "cell_type": "code",
   "execution_count": null,
   "id": "7861e1d8",
   "metadata": {},
   "outputs": [
    {
     "name": "stdout",
     "output_type": "stream",
     "text": [
      "['haskell techniques', 'incremental development', 'gradual development', 'kdevelop', 'kdevplatform', 'kdevelop platform', 'absorb (learning management systems)', 'absorb', 'develop blockchain innovative architectures', 'build innovative blockchain architectures']\n"
     ]
    }
   ],
   "source": [
    "import pandas as pd\n",
    "\n",
    "# Load the skills.csv\n",
    "skills_df = pd.read_csv('skills.csv')\n",
    "\n",
    "# Convert the column into a list and lowercase everything for better matching\n",
    "skills_list = skills_df.iloc[:, 0].str.lower().tolist()\n",
    "\n",
    "print(skills_list[:10])  # To preview first 10 skills\n"
   ]
  }
 ],
 "metadata": {
  "kernelspec": {
   "display_name": ".venv",
   "language": "python",
   "name": "python3"
  },
  "language_info": {
   "codemirror_mode": {
    "name": "ipython",
    "version": 3
   },
   "file_extension": ".py",
   "mimetype": "text/x-python",
   "name": "python",
   "nbconvert_exporter": "python",
   "pygments_lexer": "ipython3",
   "version": "3.11.0"
  }
 },
 "nbformat": 4,
 "nbformat_minor": 5
}
