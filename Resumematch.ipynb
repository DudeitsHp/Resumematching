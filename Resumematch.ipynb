{
 "cells": [
  {
   "cell_type": "code",
   "execution_count": null,
   "metadata": {},
   "outputs": [],
   "source": [
    "import gradio as gr\n",
    "import docx2txt\n",
    "import warnings\n",
    "from sklearn.feature_extraction.text import CountVectorizer\n",
    "from sklearn.metrics.pairwise import cosine_similarity\n",
    "warnings.filterwarnings('ignore')"
   ]
  },
  {
   "cell_type": "code",
   "execution_count": null,
   "metadata": {},
   "outputs": [],
   "source": [
    "def calculate_similarity(resume_file, jd_text):\n",
    "    # Convert uploaded resume file to text\n",
    "    resume = docx2txt.process(resume_file.name)\n",
    "\n",
    "    text = [resume, jd_text]\n",
    "\n",
    "    cv = CountVectorizer()\n",
    "    count_matrix = cv.fit_transform(text)     # Transforming the text into matrix\n",
    "    match_percentage = cosine_similarity(count_matrix)[0][1]\n",
    "    match_percentage = round(match_percentage * 100, 2)     # Calculate the percentage\n",
    "\n",
    "    return f'Your Resume matches {match_percentage}% to the job description!'\n",
    "\n",
    "\n",
    "iface = gr.Interface(fn=calculate_similarity,\n",
    "                     inputs=[gr.inputs.File(label=\"Upload Resume\"), gr.inputs.Textbox(label=\"Job Description\")],\n",
    "                     outputs=\"text\")\n",
    "\n",
    "iface.launch(share=True)"
   ]
  }
 ],
 "metadata": {
  "kernelspec": {
   "display_name": ".venv",
   "language": "python",
   "name": "python3"
  },
  "language_info": {
   "codemirror_mode": {
    "name": "ipython",
    "version": 3
   },
   "file_extension": ".py",
   "mimetype": "text/x-python",
   "name": "python",
   "nbconvert_exporter": "python",
   "pygments_lexer": "ipython3",
   "version": "3.11.0"
  },
  "orig_nbformat": 4
 },
 "nbformat": 4,
 "nbformat_minor": 2
}
